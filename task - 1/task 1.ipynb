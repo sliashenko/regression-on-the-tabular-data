{
 "cells": [
  {
   "cell_type": "markdown",
   "id": "b19324cf",
   "metadata": {},
   "source": [
    "# What is FOR loop"
   ]
  },
  {
   "cell_type": "code",
   "execution_count": 1,
   "id": "c936ad5d",
   "metadata": {},
   "outputs": [],
   "source": [
    "import time"
   ]
  },
  {
   "cell_type": "code",
   "execution_count": 2,
   "id": "9847140d",
   "metadata": {
    "scrolled": true
   },
   "outputs": [
    {
     "name": "stdout",
     "output_type": "stream",
     "text": [
      "Enter N: 100000000\n"
     ]
    }
   ],
   "source": [
    "n = int(input(\"Enter N: \"))"
   ]
  },
  {
   "cell_type": "markdown",
   "id": "46cfb35c",
   "metadata": {},
   "source": [
    "### The easiest and the worst way"
   ]
  },
  {
   "cell_type": "code",
   "execution_count": 3,
   "id": "28aa03d5",
   "metadata": {},
   "outputs": [
    {
     "name": "stdout",
     "output_type": "stream",
     "text": [
      "5000000050000000\n",
      "Duration:  8.312516689300537\n"
     ]
    }
   ],
   "source": [
    "start = time.time()\n",
    "\n",
    "sum = 0\n",
    "\n",
    "for i in range(1, n + 1):\n",
    "    sum += i\n",
    "    \n",
    "print(sum)\n",
    "print('Duration: ', time.time() - start)"
   ]
  },
  {
   "cell_type": "markdown",
   "id": "90b556b1",
   "metadata": {},
   "source": [
    "The task has name **What is FOR loop**, so obviously, we need to use *FOR*. But, as can be seen, on a really big numbers thi script starts to work very slow. We need something else."
   ]
  },
  {
   "cell_type": "markdown",
   "id": "8006bd4a",
   "metadata": {},
   "source": [
    "### W/out FOR loop"
   ]
  },
  {
   "cell_type": "code",
   "execution_count": 4,
   "id": "7b5fcafe",
   "metadata": {
    "scrolled": true
   },
   "outputs": [
    {
     "name": "stdout",
     "output_type": "stream",
     "text": [
      "5000000050000000.0\n",
      "Duration:  0.0\n"
     ]
    }
   ],
   "source": [
    "start = time.time()\n",
    "print(n*(n + 1)/2)\n",
    "\n",
    "print('Duration: ', time.time() - start)"
   ]
  },
  {
   "cell_type": "markdown",
   "id": "63f39c94",
   "metadata": {},
   "source": [
    "Sum of N numbers is the simplest arithmetical progression, so we can find the sum due to formula. Sure, this solution has no any loops. But what if..."
   ]
  },
  {
   "cell_type": "markdown",
   "id": "fd642fa2",
   "metadata": {},
   "source": [
    "### Inaccuracy in the wording"
   ]
  },
  {
   "cell_type": "code",
   "execution_count": 5,
   "id": "ac229226",
   "metadata": {},
   "outputs": [
    {
     "name": "stdout",
     "output_type": "stream",
     "text": [
      "5000000050000000.0\n",
      "Duration:  0.0\n"
     ]
    }
   ],
   "source": [
    "start = time.time()\n",
    "for i in range(0,1):\n",
    "    sum = n*(n + 1)/2\n",
    "print(sum)\n",
    "print('Duration: ', time.time() - start)"
   ]
  },
  {
   "cell_type": "markdown",
   "id": "8bed2d45",
   "metadata": {},
   "source": [
    "There is no specific guidance about FOR loop. So, we can do a it with only one iteration, where sum will be calculated. This FOR loop has no sense, but at least corresponds to the name of task."
   ]
  }
 ],
 "metadata": {
  "kernelspec": {
   "display_name": "Python 3 (ipykernel)",
   "language": "python",
   "name": "python3"
  },
  "language_info": {
   "codemirror_mode": {
    "name": "ipython",
    "version": 3
   },
   "file_extension": ".py",
   "mimetype": "text/x-python",
   "name": "python",
   "nbconvert_exporter": "python",
   "pygments_lexer": "ipython3",
   "version": "3.9.12"
  }
 },
 "nbformat": 4,
 "nbformat_minor": 5
}
