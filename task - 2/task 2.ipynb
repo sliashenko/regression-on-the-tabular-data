{
 "cells": [
  {
   "cell_type": "markdown",
   "id": "c5a6f142",
   "metadata": {},
   "source": [
    "# Counting islands"
   ]
  },
  {
   "cell_type": "markdown",
   "id": "d2f0069c",
   "metadata": {},
   "source": [
    "In this task I will use algorithm similar to **Depth-first search (DFS)**. I'll go through all elements of a matrix and if they contains 1 and haven't already checked, check neighbor elements of current."
   ]
  },
  {
   "cell_type": "code",
   "execution_count": 1,
   "id": "e8ea13e1",
   "metadata": {},
   "outputs": [],
   "source": [
    "def DFS(matrix, i, j, checked):\n",
    "    if i < M - 1:\n",
    "        if matrix[i + 1][j] == 1 and [i + 1, j] not in checked:\n",
    "            checked.append([i + 1, j])\n",
    "            DFS(matrix, i + 1, j, checked)\n",
    "    if j < N - 1:\n",
    "        if matrix[i][j + 1] == 1 and [i, j + 1] not in checked:\n",
    "            checked.append([i, j + 1])\n",
    "            DFS(matrix, i, j + 1, checked)\n",
    "    if i > 0:        \n",
    "        if matrix[i - 1][j] == 1 and [i - 1, j] not in checked:                    \n",
    "            checked.append([i - 1, j])\n",
    "            DFS(matrix, i - 1, j, checked)\n",
    "    if j > 0:\n",
    "        if matrix[i][j - 1] == 1 and [i, j - 1] not in checked:\n",
    "            checked.append([i, j - 1])\n",
    "            DFS(matrix, i, j - 1, checked)"
   ]
  },
  {
   "cell_type": "code",
   "execution_count": 2,
   "id": "ecd624b6",
   "metadata": {
    "scrolled": true
   },
   "outputs": [
    {
     "name": "stdout",
     "output_type": "stream",
     "text": [
      "Enter M and N: 5 5\n"
     ]
    }
   ],
   "source": [
    "M, N = map(int, input(\"Enter M and N: \").split())"
   ]
  },
  {
   "cell_type": "code",
   "execution_count": 3,
   "id": "5f8c1464",
   "metadata": {},
   "outputs": [
    {
     "name": "stdout",
     "output_type": "stream",
     "text": [
      "1 0 0 1 0\n",
      "0 1 1 1 0\n",
      "1 0 1 0 1\n",
      "1 0 1 1 0\n",
      "1 1 0 0 1\n"
     ]
    }
   ],
   "source": [
    "matrix = []\n",
    "\n",
    "for i in range(M): \n",
    "    row = list(map(int, input().split()))  \n",
    "    matrix.append(row)  "
   ]
  },
  {
   "cell_type": "code",
   "execution_count": 4,
   "id": "6a6a4cac",
   "metadata": {},
   "outputs": [
    {
     "name": "stdout",
     "output_type": "stream",
     "text": [
      "5\n"
     ]
    }
   ],
   "source": [
    "checked = []\n",
    "islands = 0\n",
    "\n",
    "for i in range(M):\n",
    "    for j in range(N):\n",
    "        if matrix[i][j] == 1 and [i, j] not in checked:\n",
    "            checked.append([i, j])\n",
    "            DFS(matrix, i, j, checked)\n",
    "            islands += 1\n",
    "print(islands)"
   ]
  }
 ],
 "metadata": {
  "kernelspec": {
   "display_name": "Python 3 (ipykernel)",
   "language": "python",
   "name": "python3"
  },
  "language_info": {
   "codemirror_mode": {
    "name": "ipython",
    "version": 3
   },
   "file_extension": ".py",
   "mimetype": "text/x-python",
   "name": "python",
   "nbconvert_exporter": "python",
   "pygments_lexer": "ipython3",
   "version": "3.9.12"
  }
 },
 "nbformat": 4,
 "nbformat_minor": 5
}
